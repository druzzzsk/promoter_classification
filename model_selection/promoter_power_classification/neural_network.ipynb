{
 "cells": [
  {
   "cell_type": "code",
   "execution_count": 18,
   "id": "738501df",
   "metadata": {},
   "outputs": [],
   "source": [
    "import pandas as pd\n",
    "import numpy as np\n",
    "import torch\n",
    "import torch.nn as nn\n",
    "import torch.optim as optim\n",
    "from torch.utils.data import TensorDataset, DataLoader\n",
    "\n",
    "from sklearn.model_selection import train_test_split\n",
    "\n",
    "from sklearn.metrics import (\n",
    "    roc_auc_score, f1_score, precision_score, recall_score,\n",
    "    matthews_corrcoef, confusion_matrix, accuracy_score)"
   ]
  },
  {
   "cell_type": "code",
   "execution_count": 11,
   "id": "8947493a",
   "metadata": {},
   "outputs": [
    {
     "data": {
      "text/plain": [
       "label\n",
       "0    1791\n",
       "1    1591\n",
       "Name: count, dtype: int64"
      ]
     },
     "execution_count": 11,
     "metadata": {},
     "output_type": "execute_result"
    }
   ],
   "source": [
    "data = pd.read_csv(r'C:\\Users\\User\\PROJECTS\\chem_ai_project\\data\\strong_or_weak_promoter_nt_embeddings.csv')\n",
    "data['label'].value_counts()"
   ]
  },
  {
   "cell_type": "code",
   "execution_count": 12,
   "id": "226e0390",
   "metadata": {},
   "outputs": [],
   "source": [
    "X = data.iloc[:, 2:].values  \n",
    "y = data['label'].values\n",
    "\n",
    "X_train, X_test, y_train, y_test = train_test_split(X, y, test_size=0.2, shuffle=True, random_state=42)"
   ]
  },
  {
   "cell_type": "code",
   "execution_count": 13,
   "id": "dd73d4ad",
   "metadata": {},
   "outputs": [],
   "source": [
    "X_train_tensor = torch.tensor(X_train, dtype=torch.float32)\n",
    "y_train_tensor = torch.tensor(y_train, dtype=torch.float32)  \n",
    "\n",
    "X_test_tensor = torch.tensor(X_test, dtype=torch.float32)\n",
    "y_test_tensor = torch.tensor(y_test, dtype=torch.float32)\n",
    "\n",
    "train_dataset = TensorDataset(X_train_tensor, y_train_tensor)\n",
    "test_dataset = TensorDataset(X_test_tensor, y_test_tensor)\n",
    "\n",
    "train_loader = DataLoader(train_dataset, batch_size=64, shuffle=True)\n",
    "test_loader = DataLoader(test_dataset, batch_size=64, shuffle=False)"
   ]
  },
  {
   "cell_type": "code",
   "execution_count": 14,
   "id": "0cd45205",
   "metadata": {},
   "outputs": [],
   "source": [
    "class DNK_MLP(nn.Module):\n",
    "    def __init__(self, input_dim):\n",
    "        super(DNK_MLP, self).__init__()\n",
    "        self.model = nn.Sequential(\n",
    "            nn.Linear(input_dim, 256),\n",
    "            nn.ReLU(),\n",
    "            nn.Dropout(0.3),\n",
    "            nn.Linear(256, 64),\n",
    "            nn.ReLU(),\n",
    "            nn.Dropout(0.3),\n",
    "            nn.Linear(64, 1),      \n",
    "        )\n",
    "        \n",
    "    def forward(self, x):\n",
    "        return self.model(x)"
   ]
  },
  {
   "cell_type": "code",
   "execution_count": 15,
   "id": "6ddd0ee7",
   "metadata": {},
   "outputs": [],
   "source": [
    "device = torch.device(\"cuda\" if torch.cuda.is_available() else \"cpu\")\n",
    "model = DNK_MLP(input_dim=1024).to(device)\n",
    "\n",
    "criterion = nn.BCEWithLogitsLoss()  \n",
    "optimizer = optim.Adam(model.parameters(), lr=1e-3)"
   ]
  },
  {
   "cell_type": "code",
   "execution_count": 24,
   "id": "1eec23fc",
   "metadata": {},
   "outputs": [
    {
     "name": "stdout",
     "output_type": "stream",
     "text": [
      "Epoch 1/20, Loss: 12.3063, Accuracy: 0.5716\n",
      "Epoch 2/20, Loss: 11.9680, Accuracy: 0.5820\n",
      "Epoch 3/20, Loss: 12.3260, Accuracy: 0.5716\n",
      "Epoch 4/20, Loss: 12.3862, Accuracy: 0.5583\n",
      "Epoch 5/20, Loss: 13.9599, Accuracy: 0.5465\n",
      "Epoch 6/20, Loss: 11.9304, Accuracy: 0.5524\n",
      "Epoch 7/20, Loss: 12.2819, Accuracy: 0.5702\n",
      "Epoch 8/20, Loss: 12.3722, Accuracy: 0.5613\n",
      "Epoch 9/20, Loss: 11.5881, Accuracy: 0.5554\n",
      "Epoch 10/20, Loss: 12.5871, Accuracy: 0.5391\n",
      "Epoch 11/20, Loss: 13.1193, Accuracy: 0.5524\n",
      "Epoch 12/20, Loss: 12.0676, Accuracy: 0.5687\n",
      "Epoch 13/20, Loss: 11.1775, Accuracy: 0.5805\n",
      "Epoch 14/20, Loss: 11.4144, Accuracy: 0.5702\n",
      "Epoch 15/20, Loss: 10.1369, Accuracy: 0.5731\n",
      "Epoch 16/20, Loss: 11.1474, Accuracy: 0.5805\n",
      "Epoch 17/20, Loss: 11.1800, Accuracy: 0.5583\n",
      "Epoch 18/20, Loss: 11.0115, Accuracy: 0.5554\n",
      "Epoch 19/20, Loss: 9.9570, Accuracy: 0.5702\n",
      "Epoch 20/20, Loss: 10.8983, Accuracy: 0.5672\n"
     ]
    }
   ],
   "source": [
    "n_epochs = 20\n",
    "\n",
    "for epoch in range(n_epochs):\n",
    "    model.train()\n",
    "    epoch_loss = 0\n",
    "    for batch_X, batch_y in train_loader:\n",
    "        batch_X, batch_y = batch_X.to(device), batch_y.to(device).unsqueeze(1)\n",
    "\n",
    "        optimizer.zero_grad()\n",
    "        outputs = model(batch_X)\n",
    "        loss = criterion(outputs, batch_y)\n",
    "        loss.backward()\n",
    "        optimizer.step()\n",
    "\n",
    "        epoch_loss += loss.item()\n",
    "\n",
    "    model.eval()\n",
    "    all_preds = []\n",
    "    all_targets = []\n",
    "\n",
    "    with torch.no_grad():\n",
    "        for batch_X, batch_y in test_loader:\n",
    "            batch_X = batch_X.to(device)\n",
    "            outputs = model(batch_X)\n",
    "            preds = torch.sigmoid(outputs).cpu().numpy() > 0.5\n",
    "            all_preds.extend(preds.flatten())\n",
    "            all_targets.extend(batch_y.numpy())\n",
    "\n",
    "    acc = accuracy_score(all_targets, all_preds)\n",
    "    print(f\"Epoch {epoch+1}/{n_epochs}, Loss: {epoch_loss:.4f}, Accuracy: {acc:.4f}\")\n",
    "\n",
    "y_true = np.array(all_targets).astype(int)\n",
    "y_pred = np.array(all_preds).astype(int)"
   ]
  },
  {
   "cell_type": "code",
   "execution_count": 23,
   "id": "daef77e1",
   "metadata": {},
   "outputs": [
    {
     "data": {
      "text/html": [
       "<div>\n",
       "<style scoped>\n",
       "    .dataframe tbody tr th:only-of-type {\n",
       "        vertical-align: middle;\n",
       "    }\n",
       "\n",
       "    .dataframe tbody tr th {\n",
       "        vertical-align: top;\n",
       "    }\n",
       "\n",
       "    .dataframe thead th {\n",
       "        text-align: right;\n",
       "    }\n",
       "</style>\n",
       "<table border=\"1\" class=\"dataframe\">\n",
       "  <thead>\n",
       "    <tr style=\"text-align: right;\">\n",
       "      <th></th>\n",
       "      <th>roc_auc</th>\n",
       "      <th>f1</th>\n",
       "      <th>f1_macro</th>\n",
       "      <th>f1_micro</th>\n",
       "      <th>precision</th>\n",
       "      <th>recall</th>\n",
       "      <th>mcc</th>\n",
       "      <th>TN</th>\n",
       "      <th>FP</th>\n",
       "      <th>FN</th>\n",
       "      <th>TP</th>\n",
       "    </tr>\n",
       "  </thead>\n",
       "  <tbody>\n",
       "    <tr>\n",
       "      <th>0</th>\n",
       "      <td>0.597256</td>\n",
       "      <td>0.505017</td>\n",
       "      <td>0.556741</td>\n",
       "      <td>0.562777</td>\n",
       "      <td>0.604</td>\n",
       "      <td>0.433908</td>\n",
       "      <td>0.137735</td>\n",
       "      <td>230</td>\n",
       "      <td>99</td>\n",
       "      <td>197</td>\n",
       "      <td>151</td>\n",
       "    </tr>\n",
       "  </tbody>\n",
       "</table>\n",
       "</div>"
      ],
      "text/plain": [
       "    roc_auc        f1  f1_macro  f1_micro  precision    recall       mcc   TN  \\\n",
       "0  0.597256  0.505017  0.556741  0.562777      0.604  0.433908  0.137735  230   \n",
       "\n",
       "   FP   FN   TP  \n",
       "0  99  197  151  "
      ]
     },
     "execution_count": 23,
     "metadata": {},
     "output_type": "execute_result"
    }
   ],
   "source": [
    "with torch.no_grad():\n",
    "    all_probs = []\n",
    "    for batch_X, _ in test_loader:\n",
    "        batch_X = batch_X.to(device)\n",
    "        outputs = model(batch_X)\n",
    "        probs = torch.sigmoid(outputs).cpu().numpy()\n",
    "        all_probs.extend(probs.flatten())\n",
    "\n",
    "all_probs = np.array(all_probs)\n",
    "\n",
    "tn, fp, fn, tp = confusion_matrix(y_true, y_pred).ravel()\n",
    "\n",
    "metrics = {\n",
    "    'roc_auc': roc_auc_score(y_true, all_probs),\n",
    "    'f1': f1_score(y_true, y_pred),\n",
    "    'f1_macro': f1_score(y_true, y_pred, average='macro'),\n",
    "    'f1_micro': f1_score(y_true, y_pred, average='micro'),\n",
    "    'precision': precision_score(y_true, y_pred),\n",
    "    'recall': recall_score(y_true, y_pred),\n",
    "    'mcc': matthews_corrcoef(y_true, y_pred),\n",
    "    'TN': tn,\n",
    "    'FP': fp,\n",
    "    'FN': fn,\n",
    "    'TP': tp\n",
    "}\n",
    "\n",
    "metrics_df = pd.DataFrame([metrics])\n",
    "metrics_df"
   ]
  }
 ],
 "metadata": {
  "kernelspec": {
   "display_name": "dna",
   "language": "python",
   "name": "python3"
  },
  "language_info": {
   "codemirror_mode": {
    "name": "ipython",
    "version": 3
   },
   "file_extension": ".py",
   "mimetype": "text/x-python",
   "name": "python",
   "nbconvert_exporter": "python",
   "pygments_lexer": "ipython3",
   "version": "3.8.20"
  }
 },
 "nbformat": 4,
 "nbformat_minor": 5
}
