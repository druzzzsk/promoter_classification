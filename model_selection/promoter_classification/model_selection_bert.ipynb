{
 "cells": [
  {
   "cell_type": "code",
   "execution_count": 15,
   "id": "4443d709",
   "metadata": {},
   "outputs": [],
   "source": [
    "import pandas as pd\n",
    "import numpy as np\n",
    "import random\n",
    "import warnings\n",
    "\n",
    "pd.set_option('display.max_columns', None)\n",
    "warnings.filterwarnings('ignore')\n",
    "\n",
    "import seaborn as sns\n",
    "import matplotlib.pyplot as plt\n",
    "\n",
    "from sklearn.ensemble import RandomForestClassifier\n",
    "from lightgbm import LGBMClassifier\n",
    "from xgboost import XGBClassifier\n",
    "\n",
    "from sklearn.model_selection import (\n",
    "    train_test_split,\n",
    "    GridSearchCV,\n",
    "    StratifiedKFold,\n",
    "    KFold,\n",
    "    cross_val_score\n",
    ")\n",
    "\n",
    "import sklearn\n",
    "from sklearn.metrics import (\n",
    "    accuracy_score,\n",
    "    precision_score,\n",
    "    recall_score,\n",
    "    f1_score,\n",
    "    confusion_matrix,\n",
    "    classification_report,\n",
    "    roc_curve,\n",
    "    roc_auc_score,\n",
    "    precision_recall_curve,\n",
    "    matthews_corrcoef\n",
    ")\n",
    "\n",
    "from sklearn.feature_selection import RFECV\n",
    "\n",
    "import optuna\n",
    "import pickle"
   ]
  },
  {
   "cell_type": "code",
   "execution_count": 2,
   "id": "38d19525",
   "metadata": {},
   "outputs": [
    {
     "data": {
      "text/plain": [
       "label\n",
       "1    3382\n",
       "0    2196\n",
       "Name: count, dtype: int64"
      ]
     },
     "execution_count": 2,
     "metadata": {},
     "output_type": "execute_result"
    }
   ],
   "source": [
    "data = pd.read_csv(r'C:\\Users\\User\\PROJECTS\\chem_ai_project\\data\\promoter_or_non_bert_embeds.csv')\n",
    "data['label'].value_counts()"
   ]
  },
  {
   "cell_type": "code",
   "execution_count": 3,
   "id": "b3b4cfd0",
   "metadata": {},
   "outputs": [],
   "source": [
    "X = data.drop(['label', 'sequence'], axis = 1)\n",
    "y = data['label']\n",
    "\n",
    "X_train, X_test, y_train, y_test = train_test_split(X, y, test_size=0.2, shuffle=True, random_state=42)"
   ]
  },
  {
   "cell_type": "markdown",
   "id": "d7a42f60",
   "metadata": {},
   "source": [
    "LGBM"
   ]
  },
  {
   "cell_type": "code",
   "execution_count": null,
   "id": "61b6211a",
   "metadata": {},
   "outputs": [],
   "source": [
    "LGBM_model = LGBMClassifier(random_state = 42, verbose = -1)\n",
    "\n",
    "cv = StratifiedKFold(n_splits=5, shuffle=True, random_state = 42)\n",
    "\n",
    "rfecv = RFECV(estimator=LGBM_model, step=10, cv=cv, scoring='f1', verbose=1)\n",
    "rfecv.fit(X_train, y_train)\n",
    "\n",
    "print(\"Оптимальное количество признаков:\", rfecv.n_features_)\n",
    "print(\"Выбранные признаки:\", X_train.columns[rfecv.support_].tolist())\n",
    "LGBM_sel_features = X_train.columns[rfecv.support_].tolist()"
   ]
  },
  {
   "cell_type": "code",
   "execution_count": null,
   "id": "083b73b4",
   "metadata": {},
   "outputs": [
    {
     "data": {
      "text/plain": [
       "328"
      ]
     },
     "execution_count": 4,
     "metadata": {},
     "output_type": "execute_result"
    }
   ],
   "source": [
    "LGBM_sel_features = ['emb_3', 'emb_4', 'emb_6', 'emb_7', 'emb_8', 'emb_11', 'emb_12', 'emb_13', 'emb_14', 'emb_15', 'emb_20', 'emb_21', 'emb_23', 'emb_24', 'emb_25', 'emb_27', 'emb_28', 'emb_29', 'emb_30', 'emb_32', 'emb_33', 'emb_34', 'emb_40', 'emb_41', 'emb_42', 'emb_47', 'emb_48', 'emb_54', 'emb_55', 'emb_56', 'emb_61', 'emb_63', 'emb_65', 'emb_66', 'emb_67', 'emb_68', 'emb_69', 'emb_76', 'emb_81', 'emb_82', 'emb_84', 'emb_88', 'emb_91', 'emb_95', 'emb_96', 'emb_100', 'emb_101', 'emb_102', 'emb_103', 'emb_107', 'emb_109', 'emb_113', 'emb_116', 'emb_117', 'emb_118', 'emb_122', 'emb_124', 'emb_125', 'emb_126', 'emb_127', 'emb_128', 'emb_130', 'emb_140', 'emb_148', 'emb_150', 'emb_152', 'emb_153', 'emb_154', 'emb_157', 'emb_159', 'emb_160', 'emb_163', 'emb_166', 'emb_168', 'emb_170', 'emb_171', 'emb_172', 'emb_177', 'emb_180', 'emb_183', 'emb_188', 'emb_189', 'emb_190', 'emb_194', 'emb_195', 'emb_196', 'emb_200', 'emb_202', 'emb_203', 'emb_204', 'emb_208', 'emb_210', 'emb_211', 'emb_214', 'emb_218', 'emb_219', 'emb_223', 'emb_226', 'emb_227', 'emb_230', 'emb_231', 'emb_232', 'emb_235', 'emb_236', 'emb_239', 'emb_240', 'emb_245', 'emb_246', 'emb_249', 'emb_256', 'emb_258', 'emb_260', 'emb_263', 'emb_266', 'emb_268', 'emb_269', 'emb_270', 'emb_272', 'emb_273', 'emb_277', 'emb_283', 'emb_284', 'emb_285', 'emb_286', 'emb_289', 'emb_293', 'emb_295', 'emb_296', 'emb_298', 'emb_301', 'emb_302', 'emb_306', 'emb_308', 'emb_311', 'emb_312', 'emb_314', 'emb_315', 'emb_316', 'emb_321', 'emb_322', 'emb_323', 'emb_326', 'emb_327', 'emb_328', 'emb_329', 'emb_333', 'emb_340', 'emb_343', 'emb_345', 'emb_347', 'emb_350', 'emb_351', 'emb_354', 'emb_356', 'emb_358', 'emb_361', 'emb_368', 'emb_369', 'emb_371', 'emb_372', 'emb_373', 'emb_375', 'emb_376', 'emb_379', 'emb_380', 'emb_381', 'emb_384', 'emb_385', 'emb_388', 'emb_389', 'emb_393', 'emb_395', 'emb_396', 'emb_400', 'emb_401', 'emb_403', 'emb_404', 'emb_405', 'emb_406', 'emb_412', 'emb_414', 'emb_420', 'emb_425', 'emb_428', 'emb_430', 'emb_433', 'emb_434', 'emb_437', 'emb_438', 'emb_442', 'emb_444', 'emb_449', 'emb_451', 'emb_454', 'emb_458', 'emb_463', 'emb_466', 'emb_467', 'emb_469', 'emb_470', 'emb_473', 'emb_474', 'emb_477', 'emb_479', 'emb_481', 'emb_483', 'emb_484', 'emb_485', 'emb_487', 'emb_488', 'emb_494', 'emb_498', 'emb_499', 'emb_500', 'emb_501', 'emb_504', 'emb_505', 'emb_506', 'emb_507', 'emb_508', 'emb_509', 'emb_511', 'emb_512', 'emb_513', 'emb_514', 'emb_515', 'emb_518', 'emb_519', 'emb_523', 'emb_528', 'emb_530', 'emb_531', 'emb_532', 'emb_536', 'emb_538', 'emb_540', 'emb_541', 'emb_544', 'emb_550', 'emb_551', 'emb_552', 'emb_553', 'emb_554', 'emb_557', 'emb_562', 'emb_564', 'emb_565', 'emb_567', 'emb_568', 'emb_569', 'emb_577', 'emb_578', 'emb_579', 'emb_581', 'emb_585', 'emb_593', 'emb_596', 'emb_597', 'emb_599', 'emb_602', 'emb_603', 'emb_604', 'emb_606', 'emb_607', 'emb_609', 'emb_611', 'emb_614', 'emb_615', 'emb_616', 'emb_617', 'emb_618', 'emb_623', 'emb_624', 'emb_625', 'emb_627', 'emb_629', 'emb_631', 'emb_633', 'emb_637', 'emb_641', 'emb_652', 'emb_654', 'emb_660', 'emb_661', 'emb_662', 'emb_664', 'emb_667', 'emb_669', 'emb_671', 'emb_672', 'emb_674', 'emb_676', 'emb_677', 'emb_682', 'emb_685', 'emb_693', 'emb_697', 'emb_698', 'emb_699', 'emb_705', 'emb_706', 'emb_710', 'emb_711', 'emb_713', 'emb_714', 'emb_716', 'emb_721', 'emb_724', 'emb_725', 'emb_726', 'emb_729', 'emb_732', 'emb_733', 'emb_736', 'emb_741', 'emb_742', 'emb_744', 'emb_746', 'emb_747', 'emb_751', 'emb_752', 'emb_756', 'emb_757', 'emb_758', 'emb_760', 'emb_761', 'emb_762', 'emb_766']\n",
    "len(LGBM_sel_features)"
   ]
  },
  {
   "cell_type": "code",
   "execution_count": 9,
   "id": "ad5731f2",
   "metadata": {},
   "outputs": [
    {
     "data": {
      "image/png": "[encoded data removed]",
      "text/plain": [
       "<Figure size 800x400 with 1 Axes>"
      ]
     },
     "metadata": {},
     "output_type": "display_data"
    }
   ],
   "source": [
    "plt.figure(figsize=(8, 4))\n",
    "plt.plot(\n",
    "    range(1, len(rfecv.cv_results_[\"mean_test_score\"]) + 1),\n",
    "    rfecv.cv_results_[\"mean_test_score\"],\n",
    "    marker='o'\n",
    ")\n",
    "plt.title(\"RFECV: MCC vs Number of Selected Features\")\n",
    "plt.xlabel(\"Number of Selected Features\")\n",
    "plt.ylabel(\"Mean CV Matthews Correlation Coefficient (MCC)\")\n",
    "plt.grid(True)\n",
    "plt.tight_layout()\n",
    "plt.show()"
   ]
  },
  {
   "cell_type": "code",
   "execution_count": null,
   "id": "338cbc77",
   "metadata": {},
   "outputs": [],
   "source": [
    "def objective(trial):\n",
    "    # Подбор гиперпараметров\n",
    "    param = {\n",
    "        'n_estimators': trial.suggest_int('n_estimators', 50, 150),\n",
    "        'learning_rate': trial.suggest_float('learning_rate', 1e-3, 0.5, log=True),\n",
    "        'max_depth': trial.suggest_int('max_depth', 2, 30),\n",
    "        'num_leaves': trial.suggest_int('num_leaves', 5, 50),\n",
    "        'min_child_samples': trial.suggest_int('min_child_samples', 5, 50),\n",
    "        'subsample': trial.suggest_float('subsample', 0.5, 1.0),\n",
    "        'colsample_bytree': trial.suggest_float('colsample_bytree', 0.5, 1.0),\n",
    "        'reg_alpha': trial.suggest_float('reg_alpha', 1e-8, 1.0, log=True),\n",
    "        'reg_lambda': trial.suggest_float('reg_lambda', 1e-8, 1.0, log=True),\n",
    "        'class_weight': trial.suggest_categorical('class_weight', [None, 'balanced']),\n",
    "        'boosting_type': trial.suggest_categorical('boosting_type', ['gbdt', 'dart']),\n",
    "        'random_state': 42,\n",
    "        'n_jobs': -1\n",
    "    }\n",
    "\n",
    "\n",
    "    model = LGBMClassifier(**param, verbose = -1, is_unbalance=True)\n",
    "\n",
    "\n",
    "    cv = StratifiedKFold(n_splits=5, shuffle=True, random_state=42)\n",
    "    scores = cross_val_score(model, X_train[LGBM_sel_features], y_train, cv=cv, scoring='f1')\n",
    "\n",
    "\n",
    "    return scores.mean()"
   ]
  },
  {
   "cell_type": "code",
   "execution_count": null,
   "id": "cdadd49d",
   "metadata": {},
   "outputs": [],
   "source": [
    "study_1 = optuna.create_study(direction='maximize')\n",
    "study_1.optimize(objective, n_trials=100)\n",
    "\n",
    "print(\"Лучшие гиперпараметры:\")\n",
    "print(study_1.best_params)"
   ]
  },
  {
   "cell_type": "code",
   "execution_count": null,
   "id": "c0758ee3",
   "metadata": {},
   "outputs": [
    {
     "name": "stdout",
     "output_type": "stream",
     "text": [
      "f1 на тесте: 0.8117647058823528\n"
     ]
    }
   ],
   "source": [
    "LGBM_model = LGBMClassifier(\n",
    "    n_estimators=87,\n",
    "    learning_rate=0.12459678554508243,\n",
    "    max_depth=16,\n",
    "    num_leaves=50,\n",
    "    min_child_samples=16,\n",
    "    subsample=0.6045966685118891,\n",
    "    colsample_bytree=0.65173420001114,\n",
    "    reg_alpha=0.0012096106630694842,\n",
    "    reg_lambda=0.00034999220387409266,\n",
    "    class_weight=None,\n",
    "    boosting_type='gbdt', verbose = -1\n",
    ")\n",
    "LGBM_model.fit(X_train[LGBM_sel_features], y_train)\n",
    "\n",
    "# Оценка на тестовой выборке\n",
    "y_pred = LGBM_model.predict(X_test[LGBM_sel_features])\n",
    "print(\"f1 на тесте:\", f1_score(y_test, y_pred))"
   ]
  },
  {
   "cell_type": "code",
   "execution_count": null,
   "id": "e86e621b",
   "metadata": {},
   "outputs": [
    {
     "name": "stdout",
     "output_type": "stream",
     "text": [
      "Fold 1: f1 = 0.854779411764706\n",
      "Fold 2: f1 = 0.8284132841328414\n",
      "Fold 3: f1 = 0.813528336380256\n",
      "Fold 4: f1 = 0.8318264014466545\n",
      "Fold 5: f1 = 0.8296703296703296\n",
      "Mean f1: 0.8316435526789576\n"
     ]
    }
   ],
   "source": [
    "skf = StratifiedKFold(n_splits=5, shuffle=True, random_state=42)\n",
    "scores = cross_val_score(LGBM_model, X_train[LGBM_sel_features], y_train, cv=skf, scoring='f1')\n",
    "for i in range(5):\n",
    "  print(f'Fold {i+1}: f1 = {scores[i]}')\n",
    "print('Mean f1:', scores.mean())"
   ]
  },
  {
   "cell_type": "markdown",
   "id": "1e781640",
   "metadata": {},
   "source": [
    "RandonForest"
   ]
  },
  {
   "cell_type": "code",
   "execution_count": null,
   "id": "7991de68",
   "metadata": {},
   "outputs": [],
   "source": [
    "RF_model = RandomForestClassifier(random_state = 42)\n",
    "\n",
    "cv = StratifiedKFold(n_splits=5, shuffle = True, random_state = 42)\n",
    "\n",
    "rfecv = RFECV(estimator=RF_model, step=10, cv=cv, scoring='f1', verbose=1)\n",
    "rfecv.fit(X_train, y_train)\n",
    "\n",
    "print(\"Оптимальное количество признаков:\", rfecv.n_features_)\n",
    "print(\"Выбранные признаки:\", X_train.columns[rfecv.support_].tolist())\n",
    "RF_sel_features = X_train.columns[rfecv.support_].tolist()"
   ]
  },
  {
   "cell_type": "code",
   "execution_count": null,
   "id": "89ddf680",
   "metadata": {},
   "outputs": [
    {
     "data": {
      "text/plain": [
       "138"
      ]
     },
     "execution_count": 8,
     "metadata": {},
     "output_type": "execute_result"
    }
   ],
   "source": [
    "RF_sel_features = ['emb_3', 'emb_4', 'emb_11', 'emb_15', 'emb_22', 'emb_23', 'emb_27', 'emb_28', 'emb_30', 'emb_33', 'emb_34', 'emb_41', 'emb_43', 'emb_48', 'emb_53', 'emb_56', 'emb_61', 'emb_65', 'emb_66', 'emb_82', 'emb_91', 'emb_100', 'emb_102', 'emb_108', 'emb_116', 'emb_117', 'emb_118', 'emb_120', 'emb_122', 'emb_126', 'emb_129', 'emb_132', 'emb_148', 'emb_150', 'emb_154', 'emb_157', 'emb_170', 'emb_180', 'emb_188', 'emb_190', 'emb_217', 'emb_226', 'emb_238', 'emb_243', 'emb_268', 'emb_269', 'emb_270', 'emb_285', 'emb_288', 'emb_295', 'emb_298', 'emb_300', 'emb_311', 'emb_315', 'emb_323', 'emb_326', 'emb_329', 'emb_333', 'emb_347', 'emb_348', 'emb_349', 'emb_354', 'emb_358', 'emb_363', 'emb_380', 'emb_384', 'emb_386', 'emb_393', 'emb_400', 'emb_402', 'emb_405', 'emb_411', 'emb_413', 'emb_414', 'emb_416', 'emb_433', 'emb_434', 'emb_437', 'emb_438', 'emb_454', 'emb_456', 'emb_462', 'emb_463', 'emb_473', 'emb_474', 'emb_479', 'emb_481', 'emb_484', 'emb_485', 'emb_486', 'emb_487', 'emb_488', 'emb_498', 'emb_502', 'emb_504', 'emb_505', 'emb_508', 'emb_509', 'emb_512', 'emb_514', 'emb_516', 'emb_517', 'emb_538', 'emb_541', 'emb_549', 'emb_550', 'emb_552', 'emb_553', 'emb_554', 'emb_560', 'emb_567', 'emb_569', 'emb_578', 'emb_581', 'emb_586', 'emb_596', 'emb_597', 'emb_616', 'emb_623', 'emb_629', 'emb_631', 'emb_641', 'emb_652', 'emb_654', 'emb_661', 'emb_699', 'emb_706', 'emb_711', 'emb_721', 'emb_726', 'emb_738', 'emb_741', 'emb_749', 'emb_752', 'emb_753', 'emb_757', 'emb_760', 'emb_766']\n",
    "len(RF_sel_features)"
   ]
  },
  {
   "cell_type": "code",
   "execution_count": 17,
   "id": "01530a69",
   "metadata": {},
   "outputs": [
    {
     "data": {
      "image/png": "[encoded data removed]",
      "text/plain": [
       "<Figure size 800x400 with 1 Axes>"
      ]
     },
     "metadata": {},
     "output_type": "display_data"
    }
   ],
   "source": [
    "plt.figure(figsize=(8, 4))\n",
    "plt.plot(\n",
    "    range(1, len(rfecv.cv_results_[\"mean_test_score\"]) + 1),\n",
    "    rfecv.cv_results_[\"mean_test_score\"],\n",
    "    marker='o'\n",
    ")\n",
    "plt.title(\"RFECV: MCC vs Number of Selected Features\")\n",
    "plt.xlabel(\"Number of Selected Features\")\n",
    "plt.ylabel(\"Mean CV Matthews Correlation Coefficient (MCC)\")\n",
    "plt.grid(True)\n",
    "plt.tight_layout()\n",
    "plt.show()"
   ]
  },
  {
   "cell_type": "code",
   "execution_count": null,
   "id": "81a9a9a5",
   "metadata": {},
   "outputs": [],
   "source": [
    "def objective(trial):\n",
    "    param = {\n",
    "        'n_estimators': trial.suggest_int('n_estimators', 50, 200),\n",
    "        'max_depth': trial.suggest_int('max_depth', 2, 30),\n",
    "        'min_samples_split': trial.suggest_int('min_samples_split', 2, 20),\n",
    "        'min_samples_leaf': trial.suggest_int('min_samples_leaf', 1, 20),\n",
    "        'max_features': trial.suggest_categorical('max_features', ['sqrt', 'log2', None]),\n",
    "        'bootstrap': trial.suggest_categorical('bootstrap', [True, False]),\n",
    "        'class_weight': trial.suggest_categorical('class_weight', [None, 'balanced', 'balanced_subsample']),\n",
    "        'random_state': 42,\n",
    "        'n_jobs': -1\n",
    "    }\n",
    "\n",
    "    model = RandomForestClassifier(**param)\n",
    "\n",
    "    cv = StratifiedKFold(n_splits=5, shuffle=True, random_state=42)\n",
    "    scores = cross_val_score(model, X_train[RF_sel_features], y_train, cv=cv, scoring='f1')\n",
    "\n",
    "    return scores.mean()"
   ]
  },
  {
   "cell_type": "code",
   "execution_count": null,
   "id": "ad39010d",
   "metadata": {},
   "outputs": [],
   "source": [
    "study_2 = optuna.create_study(direction='maximize')\n",
    "study_2.optimize(objective, n_trials=100)\n",
    "\n",
    "print(\"Лучшие гиперпараметры:\")\n",
    "print(study_2.best_params)"
   ]
  },
  {
   "cell_type": "code",
   "execution_count": null,
   "id": "d5159bd1",
   "metadata": {},
   "outputs": [
    {
     "name": "stdout",
     "output_type": "stream",
     "text": [
      "f1 на тесте: 0.8194842406876791\n"
     ]
    }
   ],
   "source": [
    "RF_model = RandomForestClassifier(\n",
    "    n_estimators=192,\n",
    "    max_depth=12,\n",
    "    min_samples_split=16,\n",
    "    min_samples_leaf=11,\n",
    "    max_features='log2',\n",
    "    bootstrap=False,\n",
    "    class_weight=None\n",
    ")\n",
    "RF_model.fit(X_train[RF_sel_features], y_train)\n",
    "\n",
    "# Оценка на тестовой выборке\n",
    "y_pred = RF_model.predict(X_test[RF_sel_features])\n",
    "print(\"f1 на тесте:\", f1_score(y_test, y_pred))"
   ]
  },
  {
   "cell_type": "code",
   "execution_count": null,
   "id": "6ef92579",
   "metadata": {},
   "outputs": [
    {
     "name": "stdout",
     "output_type": "stream",
     "text": [
      "Fold 1: f1 = 0.8467815049864007\n",
      "Fold 2: f1 = 0.8263254113345521\n",
      "Fold 3: f1 = 0.8255395683453237\n",
      "Fold 4: f1 = 0.8266666666666668\n",
      "Fold 5: f1 = 0.8234217749313815\n",
      "Mean f1: 0.8297469852528649\n"
     ]
    }
   ],
   "source": [
    "skf = StratifiedKFold(n_splits=5, shuffle=True, random_state=42)\n",
    "scores = cross_val_score(RF_model, X_train[RF_sel_features], y_train, cv=skf, scoring='f1')\n",
    "for i in range(5):\n",
    "  print(f'Fold {i+1}: f1 = {scores[i]}')\n",
    "print('Mean f1:', scores.mean())"
   ]
  },
  {
   "cell_type": "markdown",
   "id": "22986da6",
   "metadata": {},
   "source": [
    "Final metrics comparison"
   ]
  },
  {
   "cell_type": "code",
   "execution_count": null,
   "id": "2983d254",
   "metadata": {},
   "outputs": [],
   "source": [
    "models = [LGBM_model, RF_model]\n",
    "models_names = ['LGBM', 'Random_Forest']\n",
    "selected_features_list = [LGBM_sel_features, RF_sel_features]\n",
    "\n",
    "def get_metrics(models_list, models_names, selected_features_list):\n",
    "  roc_auc_metrics = []\n",
    "  f1_score_metrics = []\n",
    "  f1_macro_metrics = []\n",
    "  f1_micro_metrics = []\n",
    "  precision_metrics = []\n",
    "  recall_metrics = []\n",
    "  mcc_metrics = []\n",
    "  FP = []\n",
    "  FN = []\n",
    "  TP = []\n",
    "  TN = []\n",
    "\n",
    "  for model, features in zip(models_list, selected_features_list):\n",
    "    \n",
    "    y_proba = model.predict_proba(X_test[features])[:, 1]\n",
    "    y_pred = model.predict(X_test[features])\n",
    "\n",
    "    tn, fp, fn, tp = confusion_matrix(y_test, y_pred).ravel()\n",
    "\n",
    "    roc_auc_metrics.append(roc_auc_score(y_test, y_proba))\n",
    "    f1_score_metrics.append(f1_score(y_test, y_pred))\n",
    "    f1_macro_metrics.append(f1_score(y_test, y_pred, average='macro'))  \n",
    "    f1_micro_metrics.append(f1_score(y_test, y_pred, average='micro'))\n",
    "    precision_metrics.append(precision_score(y_test, y_pred))\n",
    "    recall_metrics.append(recall_score(y_test, y_pred))\n",
    "    mcc_metrics.append(matthews_corrcoef(y_test, y_pred))\n",
    "    FP.append(fp)\n",
    "    FN.append(fn)\n",
    "    TN.append(tn)\n",
    "    TP.append(tp)\n",
    "\n",
    "  data = pd.DataFrame({\n",
    "    'model': models_names,\n",
    "    'roc/auc': roc_auc_metrics,\n",
    "    'f1': f1_score_metrics,\n",
    "    'f1 (macro)': f1_macro_metrics,\n",
    "    'f1 (micro)': f1_micro_metrics,\n",
    "    'precision': precision_metrics,\n",
    "    'recall': recall_metrics,\n",
    "    'mcc': mcc_metrics,\n",
    "    'TN': TN,\n",
    "    'FP': FP,\n",
    "    'FN': FN,\n",
    "    'TP': TP\n",
    "    })\n",
    "\n",
    "  return data"
   ]
  },
  {
   "cell_type": "code",
   "execution_count": 23,
   "id": "33e94753",
   "metadata": {},
   "outputs": [
    {
     "data": {
      "text/html": [
       "<div>\n",
       "<style scoped>\n",
       "    .dataframe tbody tr th:only-of-type {\n",
       "        vertical-align: middle;\n",
       "    }\n",
       "\n",
       "    .dataframe tbody tr th {\n",
       "        vertical-align: top;\n",
       "    }\n",
       "\n",
       "    .dataframe thead th {\n",
       "        text-align: right;\n",
       "    }\n",
       "</style>\n",
       "<table border=\"1\" class=\"dataframe\">\n",
       "  <thead>\n",
       "    <tr style=\"text-align: right;\">\n",
       "      <th></th>\n",
       "      <th>model</th>\n",
       "      <th>roc/auc</th>\n",
       "      <th>f1</th>\n",
       "      <th>f1 (macro)</th>\n",
       "      <th>f1 (micro)</th>\n",
       "      <th>precision</th>\n",
       "      <th>recall</th>\n",
       "      <th>mcc</th>\n",
       "      <th>TN</th>\n",
       "      <th>FP</th>\n",
       "      <th>FN</th>\n",
       "      <th>TP</th>\n",
       "    </tr>\n",
       "  </thead>\n",
       "  <tbody>\n",
       "    <tr>\n",
       "      <th>0</th>\n",
       "      <td>LGBM</td>\n",
       "      <td>0.836606</td>\n",
       "      <td>0.818516</td>\n",
       "      <td>0.767467</td>\n",
       "      <td>0.778674</td>\n",
       "      <td>0.822747</td>\n",
       "      <td>0.814327</td>\n",
       "      <td>0.534999</td>\n",
       "      <td>312</td>\n",
       "      <td>120</td>\n",
       "      <td>127</td>\n",
       "      <td>557</td>\n",
       "    </tr>\n",
       "    <tr>\n",
       "      <th>1</th>\n",
       "      <td>Random_Forest</td>\n",
       "      <td>0.837354</td>\n",
       "      <td>0.819554</td>\n",
       "      <td>0.760550</td>\n",
       "      <td>0.775090</td>\n",
       "      <td>0.806223</td>\n",
       "      <td>0.833333</td>\n",
       "      <td>0.521819</td>\n",
       "      <td>295</td>\n",
       "      <td>137</td>\n",
       "      <td>114</td>\n",
       "      <td>570</td>\n",
       "    </tr>\n",
       "  </tbody>\n",
       "</table>\n",
       "</div>"
      ],
      "text/plain": [
       "           model   roc/auc        f1  f1 (macro)  f1 (micro)  precision  \\\n",
       "0           LGBM  0.836606  0.818516    0.767467    0.778674   0.822747   \n",
       "1  Random_Forest  0.837354  0.819554    0.760550    0.775090   0.806223   \n",
       "\n",
       "     recall       mcc   TN   FP   FN   TP  \n",
       "0  0.814327  0.534999  312  120  127  557  \n",
       "1  0.833333  0.521819  295  137  114  570  "
      ]
     },
     "execution_count": 23,
     "metadata": {},
     "output_type": "execute_result"
    }
   ],
   "source": [
    "results = get_metrics(models, models_names, selected_features_list)\n",
    "results"
   ]
  }
 ],
 "metadata": {
  "kernelspec": {
   "display_name": "dna",
   "language": "python",
   "name": "python3"
  },
  "language_info": {
   "codemirror_mode": {
    "name": "ipython",
    "version": 3
   },
   "file_extension": ".py",
   "mimetype": "text/x-python",
   "name": "python",
   "nbconvert_exporter": "python",
   "pygments_lexer": "ipython3",
   "version": "3.8.20"
  }
 },
 "nbformat": 4,
 "nbformat_minor": 5
}
